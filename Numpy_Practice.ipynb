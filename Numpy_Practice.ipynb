{
 "cells": [
  {
   "cell_type": "code",
   "execution_count": 1,
   "id": "2782abf0-0c2d-4387-b44b-66565a02908f",
   "metadata": {},
   "outputs": [],
   "source": [
    "import numpy as np\n",
    "import pandas as pd\n",
    "import matplotlib.pyplot as plt\n",
    "import seaborn as sns"
   ]
  },
  {
   "cell_type": "code",
   "execution_count": 8,
   "id": "04ae82f1-05a3-4540-8c04-09602f9ef4d1",
   "metadata": {},
   "outputs": [
    {
     "data": {
      "text/plain": [
       "[0, 1, 2, 3, 4]"
      ]
     },
     "execution_count": 8,
     "metadata": {},
     "output_type": "execute_result"
    }
   ],
   "source": [
    "list = [x for x in range(5)]\n",
    "list"
   ]
  },
  {
   "cell_type": "code",
   "execution_count": 9,
   "id": "36346d26-4889-4c78-9d92-9e49734ca705",
   "metadata": {},
   "outputs": [],
   "source": [
    "arr = [[1, 2, 3, 4, 5],\n",
    "    [6, 7, 8, 9, 10]]"
   ]
  },
  {
   "cell_type": "code",
   "execution_count": 12,
   "id": "581eeea1-3535-48a3-acb7-168fd74969b3",
   "metadata": {},
   "outputs": [],
   "source": [
    "arr1 = np.array(arr)"
   ]
  },
  {
   "cell_type": "code",
   "execution_count": 13,
   "id": "a05d6d17-a102-42fe-b496-916a78122603",
   "metadata": {},
   "outputs": [
    {
     "data": {
      "text/plain": [
       "numpy.ndarray"
      ]
     },
     "execution_count": 13,
     "metadata": {},
     "output_type": "execute_result"
    }
   ],
   "source": [
    "type(arr1)"
   ]
  },
  {
   "cell_type": "code",
   "execution_count": 24,
   "id": "25002b45-ec19-44a1-a754-64cfa4f6b19d",
   "metadata": {},
   "outputs": [
    {
     "data": {
      "text/plain": [
       "9"
      ]
     },
     "execution_count": 24,
     "metadata": {},
     "output_type": "execute_result"
    }
   ],
   "source": [
    "arr[1][3]"
   ]
  },
  {
   "cell_type": "code",
   "execution_count": 26,
   "id": "c58b77d3-57ed-4306-ac25-90fdf221045b",
   "metadata": {},
   "outputs": [],
   "source": [
    "arr2 = np.array([[11,12,13,14,15],\n",
    "                [16,17,18,19,20]])"
   ]
  },
  {
   "cell_type": "code",
   "execution_count": 27,
   "id": "3d495de1-732f-45ae-aaa3-9460002d911e",
   "metadata": {},
   "outputs": [
    {
     "data": {
      "text/plain": [
       "array([[11, 12, 13, 14, 15],\n",
       "       [16, 17, 18, 19, 20]])"
      ]
     },
     "execution_count": 27,
     "metadata": {},
     "output_type": "execute_result"
    }
   ],
   "source": [
    "arr2"
   ]
  },
  {
   "cell_type": "code",
   "execution_count": 28,
   "id": "6cb2cca0-ff10-42b4-809a-cd0733044d51",
   "metadata": {},
   "outputs": [
    {
     "data": {
      "text/plain": [
       "numpy.ndarray"
      ]
     },
     "execution_count": 28,
     "metadata": {},
     "output_type": "execute_result"
    }
   ],
   "source": [
    "type(arr2)"
   ]
  },
  {
   "cell_type": "code",
   "execution_count": 31,
   "id": "35cbf995-e8f3-40a8-885e-6a5563cf78df",
   "metadata": {},
   "outputs": [],
   "source": [
    "arr3 = arr1 * arr2"
   ]
  },
  {
   "cell_type": "code",
   "execution_count": 32,
   "id": "efeb7f23-9173-4f43-b4c3-9c5833db4d98",
   "metadata": {},
   "outputs": [
    {
     "data": {
      "text/plain": [
       "array([[ 11,  24,  39,  56,  75],\n",
       "       [ 96, 119, 144, 171, 200]])"
      ]
     },
     "execution_count": 32,
     "metadata": {},
     "output_type": "execute_result"
    }
   ],
   "source": [
    "arr3"
   ]
  },
  {
   "cell_type": "code",
   "execution_count": 37,
   "id": "cc299899-adbe-4305-bb48-090d24251cfa",
   "metadata": {},
   "outputs": [],
   "source": [
    "div = arr1 / arr3"
   ]
  },
  {
   "cell_type": "code",
   "execution_count": 38,
   "id": "5acad6b4-8521-42ef-b521-75ccaf708990",
   "metadata": {},
   "outputs": [
    {
     "data": {
      "text/plain": [
       "array([[0.09090909, 0.08333333, 0.07692308, 0.07142857, 0.06666667],\n",
       "       [0.0625    , 0.05882353, 0.05555556, 0.05263158, 0.05      ]])"
      ]
     },
     "execution_count": 38,
     "metadata": {},
     "output_type": "execute_result"
    }
   ],
   "source": [
    "div"
   ]
  },
  {
   "cell_type": "code",
   "execution_count": 41,
   "id": "cdd22e07-8c28-4401-8efd-72fd032d5927",
   "metadata": {},
   "outputs": [
    {
     "data": {
      "text/plain": [
       "array([0, 1, 2, 3, 4])"
      ]
     },
     "execution_count": 41,
     "metadata": {},
     "output_type": "execute_result"
    }
   ],
   "source": [
    "a = np.arange(5)\n",
    "a"
   ]
  },
  {
   "cell_type": "code",
   "execution_count": 70,
   "id": "b986ecfa-58a8-4cab-9dab-5b68288dbdc0",
   "metadata": {},
   "outputs": [
    {
     "data": {
      "text/plain": [
       "array([0, 1, 2, 3, 4])"
      ]
     },
     "execution_count": 70,
     "metadata": {},
     "output_type": "execute_result"
    }
   ],
   "source": [
    "b = np.arange(5)\n",
    "b"
   ]
  },
  {
   "cell_type": "code",
   "execution_count": 50,
   "id": "e6ad7a97-2957-4ce5-ad47-5beec13107cd",
   "metadata": {},
   "outputs": [
    {
     "data": {
      "text/plain": [
       "array([1., 1., 1., 1., 1.])"
      ]
     },
     "execution_count": 50,
     "metadata": {},
     "output_type": "execute_result"
    }
   ],
   "source": [
    "ones = np.ones(5)\n",
    "ones"
   ]
  },
  {
   "cell_type": "code",
   "execution_count": 71,
   "id": "956afc5a-0345-4dde-a2bd-0eb024c3c1ef",
   "metadata": {},
   "outputs": [
    {
     "data": {
      "text/plain": [
       "array([[0., 0., 0., 0.],\n",
       "       [0., 0., 0., 0.],\n",
       "       [0., 0., 0., 0.],\n",
       "       [0., 0., 0., 0.],\n",
       "       [0., 0., 0., 0.],\n",
       "       [0., 0., 0., 0.]])"
      ]
     },
     "execution_count": 71,
     "metadata": {},
     "output_type": "execute_result"
    }
   ],
   "source": [
    "zeros = np.zeros((6,4))\n",
    "zeros"
   ]
  },
  {
   "cell_type": "code",
   "execution_count": 88,
   "id": "b12e8c73-2eed-4c96-9262-06c5b8c45855",
   "metadata": {},
   "outputs": [
    {
     "data": {
      "text/plain": [
       "array([[1., 0., 0.],\n",
       "       [0., 1., 0.],\n",
       "       [0., 0., 1.],\n",
       "       [0., 0., 0.],\n",
       "       [0., 0., 0.]])"
      ]
     },
     "execution_count": 88,
     "metadata": {},
     "output_type": "execute_result"
    }
   ],
   "source": [
    "eye = np.eye(5,3)\n",
    "eye"
   ]
  },
  {
   "cell_type": "code",
   "execution_count": 66,
   "id": "9a9a47a7-d6cb-4b39-8b36-26ea079fe4ae",
   "metadata": {},
   "outputs": [
    {
     "data": {
      "text/plain": [
       "1"
      ]
     },
     "execution_count": 66,
     "metadata": {},
     "output_type": "execute_result"
    }
   ],
   "source": [
    "ones.ndim"
   ]
  },
  {
   "cell_type": "code",
   "execution_count": 72,
   "id": "75f2cc3d-c904-4203-9518-4d81e03fc181",
   "metadata": {},
   "outputs": [
    {
     "data": {
      "text/plain": [
       "(6, 4)"
      ]
     },
     "execution_count": 72,
     "metadata": {},
     "output_type": "execute_result"
    }
   ],
   "source": [
    "zeros.shape"
   ]
  },
  {
   "cell_type": "code",
   "execution_count": 68,
   "id": "2e4e4e9c-0960-4f78-97e8-35287fa6eeb2",
   "metadata": {},
   "outputs": [
    {
     "data": {
      "text/plain": [
       "10"
      ]
     },
     "execution_count": 68,
     "metadata": {},
     "output_type": "execute_result"
    }
   ],
   "source": [
    "div.size"
   ]
  },
  {
   "cell_type": "code",
   "execution_count": 78,
   "id": "1a2bddf2-c04b-41d3-8fe2-bf09831f9f4c",
   "metadata": {},
   "outputs": [
    {
     "data": {
      "text/plain": [
       "array([1, 3, 5, 7, 9])"
      ]
     },
     "execution_count": 78,
     "metadata": {},
     "output_type": "execute_result"
    }
   ],
   "source": [
    "odd = np.arange(1,10,2)\n",
    "odd"
   ]
  },
  {
   "cell_type": "code",
   "execution_count": 83,
   "id": "b78195c8-f5fd-49cc-af57-a2f954450c00",
   "metadata": {},
   "outputs": [
    {
     "name": "stdout",
     "output_type": "stream",
     "text": [
      "[ True  True  True  True  True  True  True  True  True  True]\n"
     ]
    },
    {
     "data": {
      "text/plain": [
       "array([ 0,  2,  4,  6,  8, 10, 12, 14, 16, 18])"
      ]
     },
     "execution_count": 83,
     "metadata": {},
     "output_type": "execute_result"
    }
   ],
   "source": [
    "even = np.arange(0,20,2)\n",
    "print(even % 2 == 0)\n",
    "even"
   ]
  },
  {
   "cell_type": "code",
   "execution_count": 86,
   "id": "a361b8f8-f840-49f5-9cc8-52fbefe93c6c",
   "metadata": {},
   "outputs": [
    {
     "data": {
      "text/plain": [
       "array([ 0. ,  2.5,  5. ,  7.5, 10. ])"
      ]
     },
     "execution_count": 86,
     "metadata": {},
     "output_type": "execute_result"
    }
   ],
   "source": [
    "linspace = np.linspace(0,10,5)\n",
    "linspace"
   ]
  },
  {
   "cell_type": "code",
   "execution_count": 92,
   "id": "3769426f-df34-42ce-b2a9-ce6c41fbafae",
   "metadata": {},
   "outputs": [
    {
     "data": {
      "text/plain": [
       "array([[1., 0., 0., 0., 1.],\n",
       "       [0., 0., 0., 1., 0.],\n",
       "       [0., 0., 0., 0., 0.]])"
      ]
     },
     "execution_count": 92,
     "metadata": {},
     "output_type": "execute_result"
    }
   ],
   "source": [
    "eye.reshape((3,5))"
   ]
  },
  {
   "cell_type": "code",
   "execution_count": 93,
   "id": "37823d96-6766-4774-bca5-39c907329e3a",
   "metadata": {},
   "outputs": [
    {
     "data": {
      "text/plain": [
       "3.0"
      ]
     },
     "execution_count": 93,
     "metadata": {},
     "output_type": "execute_result"
    }
   ],
   "source": [
    "eye.sum()"
   ]
  },
  {
   "cell_type": "code",
   "execution_count": 95,
   "id": "f45feb39-6a9a-4a3b-9f54-8afa52b6733f",
   "metadata": {},
   "outputs": [
    {
     "data": {
      "text/plain": [
       "0.2"
      ]
     },
     "execution_count": 95,
     "metadata": {},
     "output_type": "execute_result"
    }
   ],
   "source": [
    "eye.mean()"
   ]
  },
  {
   "cell_type": "code",
   "execution_count": 96,
   "id": "c520a28f-4ed3-48f3-834b-11f8ccf42e9d",
   "metadata": {},
   "outputs": [
    {
     "data": {
      "text/plain": [
       "0.0"
      ]
     },
     "execution_count": 96,
     "metadata": {},
     "output_type": "execute_result"
    }
   ],
   "source": [
    "np.median(eye)"
   ]
  },
  {
   "cell_type": "code",
   "execution_count": 97,
   "id": "396532ee-f530-4137-9773-112d6aa679db",
   "metadata": {},
   "outputs": [
    {
     "data": {
      "text/plain": [
       "0.4000000000000001"
      ]
     },
     "execution_count": 97,
     "metadata": {},
     "output_type": "execute_result"
    }
   ],
   "source": [
    "eye.std()"
   ]
  },
  {
   "cell_type": "code",
   "execution_count": 98,
   "id": "92d64e51-9093-4e17-a250-d29dd8c00ef8",
   "metadata": {},
   "outputs": [
    {
     "data": {
      "text/plain": [
       "array([[ 11,  24,  39,  56,  75],\n",
       "       [ 96, 119, 144, 171, 200]])"
      ]
     },
     "execution_count": 98,
     "metadata": {},
     "output_type": "execute_result"
    }
   ],
   "source": [
    "arr3"
   ]
  },
  {
   "cell_type": "code",
   "execution_count": 100,
   "id": "5b203eca-f14c-4d8e-91e3-e51791c85144",
   "metadata": {},
   "outputs": [
    {
     "data": {
      "text/plain": [
       "200"
      ]
     },
     "execution_count": 100,
     "metadata": {},
     "output_type": "execute_result"
    }
   ],
   "source": [
    "arr3[-1][-1]"
   ]
  },
  {
   "cell_type": "code",
   "execution_count": 108,
   "id": "dda03665-2865-4838-831b-7c1ee01ffa0b",
   "metadata": {},
   "outputs": [
    {
     "data": {
      "text/plain": [
       "array([2, 3])"
      ]
     },
     "execution_count": 108,
     "metadata": {},
     "output_type": "execute_result"
    }
   ],
   "source": [
    "set = np.array([1,2,3,4,5])\n",
    "set[1:3]"
   ]
  },
  {
   "cell_type": "code",
   "execution_count": 110,
   "id": "73867dd0-5f86-4390-995f-61d9c7e03e14",
   "metadata": {},
   "outputs": [
    {
     "data": {
      "text/plain": [
       "array([[0.16533707, 0.79328288],\n",
       "       [0.29593192, 0.99819874],\n",
       "       [0.22985677, 0.21940758],\n",
       "       [0.33442091, 0.2452942 ]])"
      ]
     },
     "execution_count": 110,
     "metadata": {},
     "output_type": "execute_result"
    }
   ],
   "source": [
    "rand = np.random.rand(4,2)\n",
    "rand"
   ]
  },
  {
   "cell_type": "code",
   "execution_count": 113,
   "id": "cf46e3f7-5751-454c-abe9-6fd21685e598",
   "metadata": {},
   "outputs": [
    {
     "data": {
      "text/plain": [
       "numpy.ndarray"
      ]
     },
     "execution_count": 113,
     "metadata": {},
     "output_type": "execute_result"
    }
   ],
   "source": [
    "type(rand)"
   ]
  },
  {
   "cell_type": "code",
   "execution_count": 117,
   "id": "07a68c7c-faf5-480d-831d-cf22cec3172c",
   "metadata": {},
   "outputs": [
    {
     "data": {
      "text/plain": [
       "array([[5, 9, 9],\n",
       "       [5, 9, 7],\n",
       "       [6, 9, 1]])"
      ]
     },
     "execution_count": 117,
     "metadata": {},
     "output_type": "execute_result"
    }
   ],
   "source": [
    "np.random.randint(1,10, (3,3))"
   ]
  },
  {
   "cell_type": "code",
   "execution_count": null,
   "id": "698cca30-f6b8-49ed-b46d-2b2de71d9a89",
   "metadata": {},
   "outputs": [],
   "source": []
  }
 ],
 "metadata": {
  "kernelspec": {
   "display_name": "Python 3 (ipykernel)",
   "language": "python",
   "name": "python3"
  },
  "language_info": {
   "codemirror_mode": {
    "name": "ipython",
    "version": 3
   },
   "file_extension": ".py",
   "mimetype": "text/x-python",
   "name": "python",
   "nbconvert_exporter": "python",
   "pygments_lexer": "ipython3",
   "version": "3.11.7"
  }
 },
 "nbformat": 4,
 "nbformat_minor": 5
}
